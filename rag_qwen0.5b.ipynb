{
 "cells": [
  {
   "cell_type": "code",
   "execution_count": null,
   "metadata": {},
   "outputs": [],
   "source": []
  },
  {
   "cell_type": "markdown",
   "metadata": {},
   "source": [
    "import json\n",
    "import torch\n",
    "from langchain.docstore.document import Document\n",
    "from langchain.vectorstores import Chroma\n",
    "from langchain_huggingface import HuggingFaceEmbeddings\n",
    "from transformers import AutoModelForCausalLM, AutoTokenizer, pipeline\n",
    "from langchain_huggingface import HuggingFacePipeline\n",
    "from langchain.chains import RetrievalQA\n",
    "\n",
    "# Step 1: Load Your JSON File\n",
    "with open(\"rag_format.json\", \"r\") as file:\n",
    "    data = json.load(file)\n",
    "\n",
    "# Step 2: Convert JSON Data to LangChain Document Objects\n",
    "documents = [\n",
    "    Document(\n",
    "        page_content=entry[\"text\"],\n",
    "        metadata={\n",
    "            \"id\": entry[\"id\"],\n",
    "            \"article\": entry[\"article\"],\n",
    "            \"clause\": entry[\"clause\"],\n",
    "            \"title\": entry[\"title\"]\n",
    "        }\n",
    "    )\n",
    "    for entry in data\n",
    "]\n",
    "\n",
    "# Step 3: Initialize HuggingFace Embeddings\n",
    "embeddings_model = HuggingFaceEmbeddings()\n",
    "\n",
    "# Step 4: Create Chroma Vector Store\n",
    "vectorstore = Chroma.from_documents(\n",
    "    documents=documents,\n",
    "    embedding=embeddings_model,\n",
    "    persist_directory=\"./chroma.db\"\n",
    ")\n",
    "\n",
    "# Step 5: Load Qwen Model\n",
    "model_id = \"Qwen/Qwen2.5-0.5B\"\n",
    "tokenizer = AutoTokenizer.from_pretrained(model_id)\n",
    "model = AutoModelForCausalLM.from_pretrained(model_id)\n",
    "\n",
    "# Step 6: Set Device for GPU/CPU\n",
    "if torch.cuda.is_available():\n",
    "    gpu_count = torch.cuda.device_count()\n",
    "    if gpu_count > 1:\n",
    "        device = 0  # Or handle multi-GPU with Accelerate/DataParallel\n",
    "    else:\n",
    "        device = 0  # Use the first GPU\n",
    "else:\n",
    "    device = -1  # Use CPU\n",
    "\n",
    "# Step 7: Create a Text-Generation Pipeline with GPU/CPU and Handle Tokenization Warning\n",
    "pipe = pipeline(\n",
    "    \"text-generation\",\n",
    "    model=model,\n",
    "    tokenizer=tokenizer,\n",
    "    max_new_tokens=100,\n",
    "    device=device,\n",
    "    clean_up_tokenization_spaces=False\n",
    ")\n",
    "\n",
    "# Wrap the pipeline for LangChain\n",
    "hf = HuggingFacePipeline(pipeline=pipe)\n",
    "\n",
    "# Step 8: Create a Retrieval-Based QA System\n",
    "qa_chain = RetrievalQA.from_chain_type(\n",
    "    llm=hf,\n",
    "    retriever=vectorstore.as_retriever(),\n",
    "    return_source_documents=True\n",
    ")"
   ]
  },
  {
   "cell_type": "markdown",
   "metadata": {},
   "source": [
    "# Test query"
   ]
  },
  {
   "cell_type": "code",
   "execution_count": null,
   "metadata": {},
   "outputs": [],
   "source": [
    "# Step 9: Test the RAG System\n",
    "query = \"Dược chất là gì theo luật dược Việt Nam?\"\n",
    "result = qa_chain({\"query\": query})\n",
    "\n",
    "# Print the Result\n",
    "print(\"Answer:\", result[\"result\"])\n",
    "print(\"Source Documents:\")\n",
    "for doc in result[\"source_documents\"]:\n",
    "    print(f\"Metadata: {doc.metadata}\")\n",
    "    print(f\"Content: {doc.page_content}\\n\")"
   ]
  }
 ],
 "metadata": {
  "kernelspec": {
   "display_name": "base",
   "language": "python",
   "name": "python3"
  },
  "language_info": {
   "name": "python",
   "version": "3.12.2"
  }
 },
 "nbformat": 4,
 "nbformat_minor": 2
}
